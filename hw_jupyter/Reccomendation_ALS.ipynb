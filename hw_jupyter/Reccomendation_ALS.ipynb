{
 "cells": [
  {
   "cell_type": "code",
   "execution_count": 1,
   "id": "ec5acc48",
   "metadata": {},
   "outputs": [
    {
     "name": "stdout",
     "output_type": "stream",
     "text": [
      "Collecting implicit\n",
      "  Downloading implicit-0.6.2-cp38-cp38-win_amd64.whl (647 kB)\n",
      "     ---------------------------------------- 0.0/647.0 kB ? eta -:--:--\n",
      "     ---- ---------------------------------- 81.9/647.0 kB 1.5 MB/s eta 0:00:01\n",
      "     --------------- ---------------------- 256.0/647.0 kB 2.3 MB/s eta 0:00:01\n",
      "     ---------------------------------- --- 583.7/647.0 kB 3.3 MB/s eta 0:00:01\n",
      "     -------------------------------------- 647.0/647.0 kB 3.1 MB/s eta 0:00:00\n",
      "Requirement already satisfied: scipy>=0.16 in c:\\users\\rotan\\appdata\\local\\programs\\python\\python38\\lib\\site-packages (from implicit) (1.10.1)\n",
      "Requirement already satisfied: tqdm>=4.27 in c:\\users\\rotan\\appdata\\local\\programs\\python\\python38\\lib\\site-packages (from implicit) (4.64.0)\n",
      "Requirement already satisfied: numpy in c:\\users\\rotan\\appdata\\local\\programs\\python\\python38\\lib\\site-packages (from implicit) (1.24.2)\n",
      "Requirement already satisfied: colorama in c:\\users\\rotan\\appdata\\local\\programs\\python\\python38\\lib\\site-packages (from tqdm>=4.27->implicit) (0.4.5)\n",
      "Installing collected packages: implicit\n",
      "Successfully installed implicit-0.6.2\n"
     ]
    }
   ],
   "source": [
    "\n",
    "!pip install implicit"
   ]
  },
  {
   "cell_type": "code",
   "execution_count": 117,
   "id": "b2a6ea9b",
   "metadata": {},
   "outputs": [],
   "source": [
    "import pandas as pd\n",
    "import numpy as np\n",
    "from scipy.sparse import csr_matrix\n",
    "from implicit.evaluation import train_test_split, ranking_metrics_at_k\n",
    "from implicit.als import AlternatingLeastSquares\n",
    "from implicit.evaluation import train_test_split\n",
    "import json\n"
   ]
  },
  {
   "cell_type": "code",
   "execution_count": 67,
   "id": "ce815413",
   "metadata": {},
   "outputs": [
    {
     "data": {
      "text/html": [
       "<div>\n",
       "<style scoped>\n",
       "    .dataframe tbody tr th:only-of-type {\n",
       "        vertical-align: middle;\n",
       "    }\n",
       "\n",
       "    .dataframe tbody tr th {\n",
       "        vertical-align: top;\n",
       "    }\n",
       "\n",
       "    .dataframe thead th {\n",
       "        text-align: right;\n",
       "    }\n",
       "</style>\n",
       "<table border=\"1\" class=\"dataframe\">\n",
       "  <thead>\n",
       "    <tr style=\"text-align: right;\">\n",
       "      <th></th>\n",
       "      <th>user</th>\n",
       "      <th>time</th>\n",
       "      <th>track</th>\n",
       "    </tr>\n",
       "  </thead>\n",
       "  <tbody>\n",
       "    <tr>\n",
       "      <th>0</th>\n",
       "      <td>3255</td>\n",
       "      <td>1.00</td>\n",
       "      <td>2659</td>\n",
       "    </tr>\n",
       "    <tr>\n",
       "      <th>1</th>\n",
       "      <td>3255</td>\n",
       "      <td>0.40</td>\n",
       "      <td>5510</td>\n",
       "    </tr>\n",
       "    <tr>\n",
       "      <th>2</th>\n",
       "      <td>3255</td>\n",
       "      <td>0.04</td>\n",
       "      <td>7417</td>\n",
       "    </tr>\n",
       "  </tbody>\n",
       "</table>\n",
       "</div>"
      ],
      "text/plain": [
       "   user  time  track\n",
       "0  3255  1.00   2659\n",
       "1  3255  0.40   5510\n",
       "2  3255  0.04   7417"
      ]
     },
     "execution_count": 67,
     "metadata": {},
     "output_type": "execute_result"
    }
   ],
   "source": [
    "BOTIFY_DATA_DIR = \"../botify/data/\"\n",
    "data = pd.read_json(\"../data_large.json\", lines=True)[[\"user\", \"time\", \"track\"]].copy()\n",
    "data.head(3)"
   ]
  },
  {
   "cell_type": "code",
   "execution_count": 91,
   "id": "3b9e7768",
   "metadata": {},
   "outputs": [
    {
     "data": {
      "text/plain": [
       "9999"
      ]
     },
     "execution_count": 91,
     "metadata": {},
     "output_type": "execute_result"
    }
   ],
   "source": [
    "data['user'].max()"
   ]
  },
  {
   "cell_type": "code",
   "execution_count": 68,
   "id": "979c2977",
   "metadata": {},
   "outputs": [
    {
     "data": {
      "text/html": [
       "<div>\n",
       "<style scoped>\n",
       "    .dataframe tbody tr th:only-of-type {\n",
       "        vertical-align: middle;\n",
       "    }\n",
       "\n",
       "    .dataframe tbody tr th {\n",
       "        vertical-align: top;\n",
       "    }\n",
       "\n",
       "    .dataframe thead th {\n",
       "        text-align: right;\n",
       "    }\n",
       "</style>\n",
       "<table border=\"1\" class=\"dataframe\">\n",
       "  <thead>\n",
       "    <tr style=\"text-align: right;\">\n",
       "      <th></th>\n",
       "      <th>user</th>\n",
       "      <th>time</th>\n",
       "      <th>track</th>\n",
       "      <th>normalized_time</th>\n",
       "    </tr>\n",
       "  </thead>\n",
       "  <tbody>\n",
       "    <tr>\n",
       "      <th>0</th>\n",
       "      <td>3255</td>\n",
       "      <td>1.00</td>\n",
       "      <td>2659</td>\n",
       "      <td>0.693333</td>\n",
       "    </tr>\n",
       "    <tr>\n",
       "      <th>1</th>\n",
       "      <td>3255</td>\n",
       "      <td>0.40</td>\n",
       "      <td>5510</td>\n",
       "      <td>0.093333</td>\n",
       "    </tr>\n",
       "    <tr>\n",
       "      <th>2</th>\n",
       "      <td>3255</td>\n",
       "      <td>0.04</td>\n",
       "      <td>7417</td>\n",
       "      <td>-0.266667</td>\n",
       "    </tr>\n",
       "  </tbody>\n",
       "</table>\n",
       "</div>"
      ],
      "text/plain": [
       "   user  time  track  normalized_time\n",
       "0  3255  1.00   2659         0.693333\n",
       "1  3255  0.40   5510         0.093333\n",
       "2  3255  0.04   7417        -0.266667"
      ]
     },
     "execution_count": 68,
     "metadata": {},
     "output_type": "execute_result"
    }
   ],
   "source": [
    "data[\"normalized_time\"] = data.groupby(\"user\")[\"time\"].transform(lambda time: time - time.mean())\n",
    "data.head(3)"
   ]
  },
  {
   "cell_type": "code",
   "execution_count": 128,
   "id": "182acfcd",
   "metadata": {},
   "outputs": [
    {
     "data": {
      "text/plain": [
       "<9996x49947 sparse matrix of type '<class 'numpy.float64'>'\n",
       "\twith 545813 stored elements in Compressed Sparse Row format>"
      ]
     },
     "execution_count": 128,
     "metadata": {},
     "output_type": "execute_result"
    }
   ],
   "source": [
    "users, user_inds = np.unique(list(data[\"user\"]), return_inverse=True)\n",
    "items, item_inds = np.unique(list(data[\"track\"]), return_inverse=True)\n",
    "\n",
    "# item_user = csr_matrix((np.ones(data.shape[0]), (item_inds, user_inds)), shape=(len(items), len(users)))\n",
    "item_user = csr_matrix((np.ones(data.shape[0]), (user_inds, item_inds)), shape=(len(users), len(items)))\n",
    "item_user"
   ]
  },
  {
   "cell_type": "code",
   "execution_count": 129,
   "id": "9cebd672",
   "metadata": {},
   "outputs": [
    {
     "name": "stdout",
     "output_type": "stream",
     "text": [
      "train\n",
      "<9996x49947 sparse matrix of type '<class 'numpy.float64'>'\n",
      "\twith 436641 stored elements in Compressed Sparse Row format>\n",
      "test\n",
      "<9996x49947 sparse matrix of type '<class 'numpy.float64'>'\n",
      "\twith 109172 stored elements in Compressed Sparse Row format>\n"
     ]
    }
   ],
   "source": [
    "# random split\n",
    "train, test = train_test_split(item_user)\n",
    "print('train', repr(train), 'test', repr(test), sep='\\n')"
   ]
  },
  {
   "cell_type": "code",
   "execution_count": 130,
   "id": "54d7b103",
   "metadata": {},
   "outputs": [
    {
     "data": {
      "application/json": {
       "ascii": false,
       "bar_format": null,
       "colour": null,
       "elapsed": 0.02700018882751465,
       "initial": 0,
       "n": 0,
       "ncols": null,
       "nrows": 49,
       "postfix": null,
       "prefix": "",
       "rate": null,
       "total": 15,
       "unit": "it",
       "unit_divisor": 1000,
       "unit_scale": false
      },
      "application/vnd.jupyter.widget-view+json": {
       "model_id": "febec385bbdd4db191f6f325f75241b1",
       "version_major": 2,
       "version_minor": 0
      },
      "text/plain": [
       "  0%|          | 0/15 [00:00<?, ?it/s]"
      ]
     },
     "metadata": {},
     "output_type": "display_data"
    }
   ],
   "source": [
    "model = AlternatingLeastSquares(factors=50, regularization=0.05, iterations=15)\n",
    "model.fit(train)"
   ]
  },
  {
   "cell_type": "code",
   "execution_count": 100,
   "id": "f6820072",
   "metadata": {},
   "outputs": [
    {
     "data": {
      "text/plain": [
       "<49947x9996 sparse matrix of type '<class 'numpy.float64'>'\n",
       "\twith 436452 stored elements in Compressed Sparse Row format>"
      ]
     },
     "execution_count": 100,
     "metadata": {},
     "output_type": "execute_result"
    }
   ],
   "source": [
    "train"
   ]
  },
  {
   "cell_type": "code",
   "execution_count": 98,
   "id": "c839a6c3",
   "metadata": {},
   "outputs": [
    {
     "data": {
      "text/plain": [
       "array([  422,   937,  1036,  1106,  1159,  1260,  1650,  2873,  2914,\n",
       "        2938,  3232,  3359,  3588,  4373,  4414,  5311,  6015,  6272,\n",
       "        6584,  6607,  8146,  9086,  9524,  9620, 10057, 12416, 12950,\n",
       "       14154, 14172, 14190, 15330, 16691, 17191, 17768, 18644, 18841,\n",
       "       19778, 20456, 22360, 22539, 22927, 23195, 24298, 24684, 26788,\n",
       "       27578, 28047, 29040, 29288, 31047, 31107, 31228, 31862, 31863,\n",
       "       32772, 33172, 33348, 33676, 33794, 33820, 33953, 35266, 37387,\n",
       "       37784, 38588, 41284, 43375, 43483, 43993, 44232, 45398, 46297,\n",
       "       46314])"
      ]
     },
     "execution_count": 98,
     "metadata": {},
     "output_type": "execute_result"
    }
   ],
   "source": [
    "liked = train.T[534].nonzero()[1]\n",
    "liked"
   ]
  },
  {
   "cell_type": "code",
   "execution_count": 134,
   "id": "555255ec",
   "metadata": {},
   "outputs": [],
   "source": [
    "# target_user_id = np.random.randint(0, 15)\n",
    "target_user_id = 9995\n",
    "with open(BOTIFY_DATA_DIR + \"recommendations_als.json\", \"w\") as rf:\n",
    "    for target_user_id in range(10000):\n",
    "        \n",
    "        try:\n",
    "            liked = train[target_user_id].nonzero()[1]\n",
    "            recs = model.recommend(target_user_id, \n",
    "                                   csr_matrix(train[target_user_id]), \n",
    "                                   N=100, \n",
    "                                   filter_items=list(liked))\n",
    "        except:\n",
    "            continue\n",
    "        \n",
    "        if len(recs[0]) == 0:\n",
    "            continue\n",
    "            \n",
    "        recommendation = {\n",
    "            \"user\": int(target_user_id),\n",
    "            \"tracks\": list(map(int, recs[0]))\n",
    "        }\n",
    "        rf.write(json.dumps(recommendation) + \"\\n\")\n",
    "    "
   ]
  },
  {
   "cell_type": "code",
   "execution_count": 115,
   "id": "5b6fb38b",
   "metadata": {},
   "outputs": [
    {
     "data": {
      "text/plain": [
       "(array([ 1997,   156,  1539,   410,   616,  1486,  2793,  1497, 10185,\n",
       "        20359,  1996,  1995,  1504,  1080,   246,  3690,  7918,  3916,\n",
       "          175,  1525]),\n",
       " array([0.00395108, 0.0005525 , 0.00052259, 0.00040071, 0.00038647,\n",
       "        0.00032606, 0.00032268, 0.00031142, 0.00030357, 0.00030274,\n",
       "        0.00029908, 0.00028395, 0.00027435, 0.00027297, 0.00026902,\n",
       "        0.00026319, 0.00025836, 0.00024016, 0.00023109, 0.00022303],\n",
       "       dtype=float32))"
      ]
     },
     "execution_count": 115,
     "metadata": {},
     "output_type": "execute_result"
    }
   ],
   "source": [
    "recs"
   ]
  },
  {
   "cell_type": "code",
   "execution_count": 135,
   "id": "b700769f",
   "metadata": {},
   "outputs": [
    {
     "data": {
      "text/html": [
       "<div>\n",
       "<style scoped>\n",
       "    .dataframe tbody tr th:only-of-type {\n",
       "        vertical-align: middle;\n",
       "    }\n",
       "\n",
       "    .dataframe tbody tr th {\n",
       "        vertical-align: top;\n",
       "    }\n",
       "\n",
       "    .dataframe thead th {\n",
       "        text-align: right;\n",
       "    }\n",
       "</style>\n",
       "<table border=\"1\" class=\"dataframe\">\n",
       "  <thead>\n",
       "    <tr style=\"text-align: right;\">\n",
       "      <th></th>\n",
       "      <th>artist</th>\n",
       "      <th>title</th>\n",
       "      <th>track</th>\n",
       "    </tr>\n",
       "  </thead>\n",
       "  <tbody>\n",
       "    <tr>\n",
       "      <th>0</th>\n",
       "      <td>Jack Johnson</td>\n",
       "      <td>The Cove</td>\n",
       "      <td>0</td>\n",
       "    </tr>\n",
       "    <tr>\n",
       "      <th>1</th>\n",
       "      <td>Billy Preston</td>\n",
       "      <td>Nothing from Nothing</td>\n",
       "      <td>1</td>\n",
       "    </tr>\n",
       "    <tr>\n",
       "      <th>2</th>\n",
       "      <td>Paco De Lucia</td>\n",
       "      <td>Entre Dos Aguas</td>\n",
       "      <td>2</td>\n",
       "    </tr>\n",
       "  </tbody>\n",
       "</table>\n",
       "</div>"
      ],
      "text/plain": [
       "          artist                 title  track\n",
       "0   Jack Johnson              The Cove      0\n",
       "1  Billy Preston  Nothing from Nothing      1\n",
       "2  Paco De Lucia       Entre Dos Aguas      2"
      ]
     },
     "execution_count": 135,
     "metadata": {},
     "output_type": "execute_result"
    }
   ],
   "source": [
    "tracks = pd.read_json(\"../tracks.json\", lines=True)[[\"artist\", \"title\", \"track\"]].copy()\n",
    "tracks.head(3)"
   ]
  },
  {
   "cell_type": "code",
   "execution_count": 136,
   "id": "e5d8314f",
   "metadata": {},
   "outputs": [
    {
     "data": {
      "text/plain": [
       "['Cosmic Love',\n",
       " 'Shape Shifter',\n",
       " 'Lucky (Album Version)',\n",
       " 'Drop The World',\n",
       " \"If I Ain't Got You\",\n",
       " 'It Might Be You (from \"Tootsie\")',\n",
       " \"It's New To Me\",\n",
       " 'The Saltwater Room',\n",
       " 'Barcelona',\n",
       " \"You're The One\",\n",
       " 'Revelry',\n",
       " 'U Smile',\n",
       " 'The Invisible Man',\n",
       " \"Livin' On A Prayer\",\n",
       " 'Dog Days Are Over (Radio Edit)',\n",
       " 'Summer',\n",
       " 'Kryptonite',\n",
       " 'Sous le soleil',\n",
       " \"I Think I'll Live\",\n",
       " 'Gabriela Solo',\n",
       " 'In My Place',\n",
       " 'So In Love (The Real Deal) (Frankie Foncett Vocal Mix)',\n",
       " 'Your Song (Alternate Take 10)',\n",
       " 'Make Love To Your Mind',\n",
       " 'Slip Away (Album)',\n",
       " 'Full Circle',\n",
       " 'Wait A Minute',\n",
       " 'Teach Me How To Dougie',\n",
       " 'The Gift',\n",
       " 'Dental Care',\n",
       " 'Mr. Me Too',\n",
       " 'A Little More (Lay It Down Album Version)',\n",
       " 'Rabbit Heart (Raise It Up)',\n",
       " 'Nightrain',\n",
       " 'Woman A Pressure Me',\n",
       " 'Never Went To Church',\n",
       " 'Alejandro',\n",
       " 'Closer To You',\n",
       " \"I CAN'T GET STARTED\",\n",
       " 'König der Löwen',\n",
       " 'My Name Is',\n",
       " 'Strings',\n",
       " 'Back To Black',\n",
       " 'River',\n",
       " 'Nobody Not Really (Interlude)',\n",
       " 'Drag You Down',\n",
       " 'Rianna',\n",
       " 'Roses',\n",
       " 'Animal Instinct',\n",
       " 'The Hustle',\n",
       " 'No More Words  (Re-Recorded / Remastered)',\n",
       " 'You Belong With Me',\n",
       " 'Somebody Told Me',\n",
       " 'I Kissed A Girl',\n",
       " 'Old School Rules (Album Version)',\n",
       " 'Use Somebody',\n",
       " 'One More Time (Short Radio Edit)',\n",
       " 'Main Title',\n",
       " 'Terre Promise',\n",
       " 'Love Story',\n",
       " 'What If (Album)',\n",
       " 'Marry Me',\n",
       " 'Glamorous Indie Rock and Roll',\n",
       " 'Knowledge',\n",
       " 'Check On It',\n",
       " 'All Of My Thoughts',\n",
       " \"When A Woman's Fed Up\",\n",
       " 'Psychotic Girl',\n",
       " 'That Should Be Me',\n",
       " \"Why Didn't You Call Me\",\n",
       " 'Steelo',\n",
       " 'Save Tonight',\n",
       " 'Help Yourself',\n",
       " 'Charming Dxm',\n",
       " 'Breakeven',\n",
       " 'Born On The Bayou',\n",
       " 'Raga Haripriya',\n",
       " 'Someday',\n",
       " \"Here's Where The Story Ends\",\n",
       " 'The Man Who Sold The World',\n",
       " 'The Power Plant',\n",
       " 'Estadio Azteca',\n",
       " 'Bang Bang',\n",
       " 'Beloved',\n",
       " 'Beautiful Sound',\n",
       " 'Su veneno',\n",
       " 'Pursuit Of Happiness (nightmare)',\n",
       " 'Mistadobalina',\n",
       " 'Ocean Rain',\n",
       " 'Dog Days Are Over (Demo)',\n",
       " 'New York',\n",
       " 'Si La Nieve',\n",
       " 'Crescendolls',\n",
       " 'Hypnopaedia',\n",
       " 'Stoned',\n",
       " 'They Might Follow You',\n",
       " 'You And Me Jesus',\n",
       " 'Over The Rainbow',\n",
       " 'Creil City',\n",
       " 'I Told You So']"
      ]
     },
     "execution_count": 136,
     "metadata": {},
     "output_type": "execute_result"
    }
   ],
   "source": [
    "[tracks[tracks.track == cur_track].title.iloc[0] for cur_track in recs[0]]"
   ]
  },
  {
   "cell_type": "code",
   "execution_count": null,
   "id": "ecf5f21d",
   "metadata": {},
   "outputs": [],
   "source": []
  }
 ],
 "metadata": {
  "kernelspec": {
   "display_name": "Python 3 (ipykernel)",
   "language": "python",
   "name": "python3"
  },
  "language_info": {
   "codemirror_mode": {
    "name": "ipython",
    "version": 3
   },
   "file_extension": ".py",
   "mimetype": "text/x-python",
   "name": "python",
   "nbconvert_exporter": "python",
   "pygments_lexer": "ipython3",
   "version": "3.8.0"
  }
 },
 "nbformat": 4,
 "nbformat_minor": 5
}
